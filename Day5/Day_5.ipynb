{
  "nbformat": 4,
  "nbformat_minor": 0,
  "metadata": {
    "colab": {
      "name": "Day_5.ipynb",
      "provenance": [],
      "collapsed_sections": []
    },
    "kernelspec": {
      "name": "python3",
      "display_name": "Python 3"
    }
  },
  "cells": [
    {
      "cell_type": "markdown",
      "metadata": {
        "id": "vhk6zoY8f_sM",
        "colab_type": "text"
      },
      "source": [
        "Question 1 :\n",
        "Write a Python program to find the first 20 non-even prime natural numbers."
      ]
    },
    {
      "cell_type": "code",
      "metadata": {
        "id": "nTmRDjUbf_xl",
        "colab_type": "code",
        "colab": {
          "base_uri": "https://localhost:8080/",
          "height": 136
        },
        "outputId": "ca5829b6-c8c6-4708-855c-2af84272ed28"
      },
      "source": [
        "myRange = range(2,21)\n",
        "  \n",
        "for i in myRange: \n",
        "    if i > 1 and i % 2 == 1: \n",
        "        for j in range(2, i//2 + 2): \n",
        "            if (i % j) == 0: \n",
        "                break\n",
        "            else: \n",
        "                if j == i//2 + 1: \n",
        "                    print(i) \n"
      ],
      "execution_count": 27,
      "outputs": [
        {
          "output_type": "stream",
          "text": [
            "3\n",
            "5\n",
            "7\n",
            "11\n",
            "13\n",
            "17\n",
            "19\n"
          ],
          "name": "stdout"
        }
      ]
    },
    {
      "cell_type": "markdown",
      "metadata": {
        "id": "sAEvKo2nf_-u",
        "colab_type": "text"
      },
      "source": [
        "Question 2 :\n",
        "Write a Python program to implement 15 functions of string"
      ]
    },
    {
      "cell_type": "code",
      "metadata": {
        "id": "kZe5GvXkgAD7",
        "colab_type": "code",
        "colab": {
          "base_uri": "https://localhost:8080/",
          "height": 544
        },
        "outputId": "faf0889e-5c99-47d1-97f3-51c1db01b7b9"
      },
      "source": [
        "myString = 'Hello World, my name is Hemanth'\n",
        "\n",
        "print(\"myString.capitalize()\")\n",
        "print(myString.capitalize())\n",
        "\n",
        "print(\"myString.casefold()\")\n",
        "print(myString.casefold())\n",
        "\n",
        "print(\"myString.center(1)\")\n",
        "print(myString.center(1))\n",
        "\n",
        "print(\"myString.count('l')\")\n",
        "print(myString.count('l'))\n",
        "\n",
        "print(\"myString.encode()\")\n",
        "print(myString.encode())\n",
        "\n",
        "print(\"myString.endswith('d')\")\n",
        "print(myString.endswith('d'))\n",
        "\n",
        "print(\"myString.expandtabs()\")\n",
        "print(myString.expandtabs())\n",
        "\n",
        "print(\"myString.find('a')\")\n",
        "print(myString.find('a'))\n",
        "\n",
        "print(\"myString.format()\")\n",
        "print(myString.format())\n",
        "\n",
        "a = {'x':'John', 'y':'Wick'} \n",
        "  \n",
        "print(\"{x}'s last name is {y}\".format_map(a)) \n",
        "\n",
        "print(\"myString.index('e')\")\n",
        "print(myString.index('e'))\n",
        "\n",
        "print(\"myString.isalnum()\")\n",
        "print(myString.isalnum())\n",
        "\n",
        "print(\"myString.isalpha()\")\n",
        "print(myString.isalpha())\n",
        "\n",
        "print(\"myString.rpartition('World')\")\n",
        "print(myString.rpartition('World'))\n",
        "\n",
        "print(\"myString.strip()\")\n",
        "print(myString.strip())\n",
        "\n",
        "print(\"myString.isidentifier()\")\n",
        "print(myString.isidentifier())"
      ],
      "execution_count": 84,
      "outputs": [
        {
          "output_type": "stream",
          "text": [
            "myString.capitalize()\n",
            "Hello world, my name is hemanth\n",
            "myString.casefold()\n",
            "hello world, my name is hemanth\n",
            "myString.center(1)\n",
            "Hello World, my name is Hemanth\n",
            "myString.count('l')\n",
            "3\n",
            "myString.encode()\n",
            "b'Hello World, my name is Hemanth'\n",
            "myString.endswith('d')\n",
            "False\n",
            "myString.expandtabs()\n",
            "Hello World, my name is Hemanth\n",
            "myString.find('a')\n",
            "17\n",
            "myString.format()\n",
            "Hello World, my name is Hemanth\n",
            "John's last name is Wick\n",
            "myString.index('e')\n",
            "1\n",
            "myString.isalnum()\n",
            "False\n",
            "myString.isalpha()\n",
            "False\n",
            "myString.rpartition('World')\n",
            "('Hello ', 'World', ', my name is Hemanth')\n",
            "myString.strip()\n",
            "Hello World, my name is Hemanth\n",
            "myString.isidentifier()\n",
            "False\n"
          ],
          "name": "stdout"
        }
      ]
    },
    {
      "cell_type": "markdown",
      "metadata": {
        "id": "I94vMaNYgALi",
        "colab_type": "text"
      },
      "source": [
        "Question 3:\n",
        "Write a Python program to check if the given string is a Palindrome or Anagram or None of them.\n",
        "Display the message accordingly to the user."
      ]
    },
    {
      "cell_type": "code",
      "metadata": {
        "id": "La9l55EpgARx",
        "colab_type": "code",
        "colab": {
          "base_uri": "https://localhost:8080/",
          "height": 68
        },
        "outputId": "ab339d4d-9aeb-4fff-c894-20eaaa9d52b1"
      },
      "source": [
        "string1 = \"restful\"\n",
        "string2 = \"fluster\"\n",
        "\n",
        "def myAnagramFunction(string1,string2):\n",
        "  if(sorted(string1) == sorted(string2)):\n",
        "    print(\"The given strings are Anagrams\")\n",
        "  else:\n",
        "    print(\"The given strings are not Anagrams\")\n",
        "\n",
        "checkAnagaram(string1,string2)\n",
        "\n",
        "myString1 = input()\n",
        "\n",
        "if(myString1 == myString1[::-1]):\n",
        "  print('String is a palindrome')\n",
        "else:\n",
        "  print('String is not a palindrome')\n"
      ],
      "execution_count": 86,
      "outputs": [
        {
          "output_type": "stream",
          "text": [
            "The given strings are Anagrams\n",
            "asd\n",
            "String is not a palindrome\n"
          ],
          "name": "stdout"
        }
      ]
    },
    {
      "cell_type": "markdown",
      "metadata": {
        "id": "cpTep2avgAZJ",
        "colab_type": "text"
      },
      "source": [
        "Question 4:\n",
        "Write a Python's user defined function that removes all the additional characters from the string\n",
        "and converts it finally to lower case using built-in lower(). eg: If the string is \"Dr. Darshan Ingle\n",
        "@AI-ML Trainer\", then the output be \"drdarshaningleaimltrainer\"."
      ]
    },
    {
      "cell_type": "code",
      "metadata": {
        "id": "DT2AX8qHgAeJ",
        "colab_type": "code",
        "colab": {
          "base_uri": "https://localhost:8080/",
          "height": 34
        },
        "outputId": "bafbaa60-6e45-4565-eaa4-3c274c199a4e"
      },
      "source": [
        "myString5 = \"Dr. Darshan Ingle @AI-ML training\"\n",
        "def removeSpecialChars(s1):\n",
        "  print((''.join(e for e in s1 if e.isalnum())).lower())\n",
        "removeSpecialChars(myString5)"
      ],
      "execution_count": 82,
      "outputs": [
        {
          "output_type": "stream",
          "text": [
            "drdarshaningleaimltraining\n"
          ],
          "name": "stdout"
        }
      ]
    }
  ]
}