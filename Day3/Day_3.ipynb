{
  "nbformat": 4,
  "nbformat_minor": 0,
  "metadata": {
    "colab": {
      "name": "Day_3.ipynb",
      "provenance": [],
      "collapsed_sections": []
    },
    "kernelspec": {
      "name": "python3",
      "display_name": "Python 3"
    }
  },
  "cells": [
    {
      "cell_type": "markdown",
      "metadata": {
        "id": "5GiveF6dt9cS",
        "colab_type": "text"
      },
      "source": [
        "Question 1 :\n",
        "Write a program to subtract two complex numbers in Python."
      ]
    },
    {
      "cell_type": "code",
      "metadata": {
        "id": "W4hpv_H-t_HL",
        "colab_type": "code",
        "colab": {
          "base_uri": "https://localhost:8080/",
          "height": 34
        },
        "outputId": "c3813fb2-d649-4415-8db0-8f505ec4cce0"
      },
      "source": [
        "complexNumber1 = 2 + 3j\n",
        "complexNumber2 = 5 + 4j\n",
        "subtractedResult = complexNumber2 - complexNumber1\n",
        "print(subtractedResult)"
      ],
      "execution_count": null,
      "outputs": [
        {
          "output_type": "stream",
          "text": [
            "(3+1j)\n"
          ],
          "name": "stdout"
        }
      ]
    },
    {
      "cell_type": "markdown",
      "metadata": {
        "id": "WYrN0RTFuWFT",
        "colab_type": "text"
      },
      "source": [
        "Question 2 :\n",
        "Write a program to find the fourth root of a number"
      ]
    },
    {
      "cell_type": "code",
      "metadata": {
        "id": "o8xsm88JuQDL",
        "colab_type": "code",
        "colab": {
          "base_uri": "https://localhost:8080/",
          "height": 34
        },
        "outputId": "7a8403f8-005f-4ad0-92cf-b15b2e9c34c9"
      },
      "source": [
        "number = 166\n",
        "degree = 4\n",
        "result = number**(1/float(degree))\n",
        "print(result)"
      ],
      "execution_count": null,
      "outputs": [
        {
          "output_type": "stream",
          "text": [
            "3.589442676339201\n"
          ],
          "name": "stdout"
        }
      ]
    },
    {
      "cell_type": "markdown",
      "metadata": {
        "id": "OZWd0TSTvoKI",
        "colab_type": "text"
      },
      "source": [
        "Question 3:\n",
        "Write a program to swap two numbers in Python with the help of a temporary variable."
      ]
    },
    {
      "cell_type": "code",
      "metadata": {
        "id": "loapMLZrvozT",
        "colab_type": "code",
        "colab": {
          "base_uri": "https://localhost:8080/",
          "height": 102
        },
        "outputId": "abe2f0c8-ef6c-4837-8a97-3853b469f6f6"
      },
      "source": [
        "variable1 = 10\n",
        "variable2 = 20\n",
        "print('initial variable1',variable1)\n",
        "print('initial variable2',variable2)\n",
        "print('--------------------')\n",
        "\n",
        "temp = variable1\n",
        "variable1 = variable2\n",
        "variable2 = temp\n",
        "print('swapped variable1',variable1)\n",
        "print('swapped variable2',variable2)"
      ],
      "execution_count": null,
      "outputs": [
        {
          "output_type": "stream",
          "text": [
            "initial variable1 10\n",
            "initial variable2 20\n",
            "--------------------\n",
            "swapped variable1 20\n",
            "swapped variable2 10\n"
          ],
          "name": "stdout"
        }
      ]
    },
    {
      "cell_type": "markdown",
      "metadata": {
        "id": "zVlBD1eewajR",
        "colab_type": "text"
      },
      "source": [
        "Question 4:\n",
        "Write a program to swap two numbers in Python without using a temporary variable."
      ]
    },
    {
      "cell_type": "code",
      "metadata": {
        "id": "QDZDF0zNwa5w",
        "colab_type": "code",
        "colab": {
          "base_uri": "https://localhost:8080/",
          "height": 102
        },
        "outputId": "aafce062-6357-4c9a-ed6e-7cf68dda1f3d"
      },
      "source": [
        "variable1 = 10\n",
        "variable2 = 20\n",
        "print('initial variable1',variable1)\n",
        "print('initial variable2',variable2)\n",
        "print('--------------------')\n",
        "\n",
        "variable1 = variable1 + variable2\n",
        "variable2 = variable1 - variable2\n",
        "variable1 = variable1 - variable2\n",
        "print('swapped variable1',variable1)\n",
        "print('swapped variable2',variable2)\n",
        "\n"
      ],
      "execution_count": null,
      "outputs": [
        {
          "output_type": "stream",
          "text": [
            "initial variable1 10\n",
            "initial variable2 20\n",
            "--------------------\n",
            "swapped variable1 20\n",
            "swapped variable2 10\n"
          ],
          "name": "stdout"
        }
      ]
    },
    {
      "cell_type": "code",
      "metadata": {
        "id": "Ymy1lSBTveh3",
        "colab_type": "code",
        "colab": {}
      },
      "source": [
        ""
      ],
      "execution_count": null,
      "outputs": []
    },
    {
      "cell_type": "markdown",
      "metadata": {
        "id": "rCs0qci75SKZ",
        "colab_type": "text"
      },
      "source": [
        "Question 5:\n",
        "Write a program to convert fahrenheit to kelvin and celsius both."
      ]
    },
    {
      "cell_type": "code",
      "metadata": {
        "id": "L3p1arxC5UVg",
        "colab_type": "code",
        "colab": {
          "base_uri": "https://localhost:8080/",
          "height": 34
        },
        "outputId": "ff1045da-f43d-4933-a2e8-eb769602a2fc"
      },
      "source": [
        "temperatureInCelsius = 27\n",
        "temperatureInKelvin = temperatureInCelsius + 273.15\n",
        "print(temperatureInKelvin)"
      ],
      "execution_count": 49,
      "outputs": [
        {
          "output_type": "stream",
          "text": [
            "300.15\n"
          ],
          "name": "stdout"
        }
      ]
    },
    {
      "cell_type": "markdown",
      "metadata": {
        "id": "GEXHAHKs5Ujn",
        "colab_type": "text"
      },
      "source": [
        "Question 6:\n",
        "Write a program to demonstrate all the available data types in Python."
      ]
    },
    {
      "cell_type": "code",
      "metadata": {
        "id": "BkCqLi8z5W3Z",
        "colab_type": "code",
        "colab": {
          "base_uri": "https://localhost:8080/",
          "height": 136
        },
        "outputId": "51fff12d-4b17-4d0b-d2bb-29cb924b4965"
      },
      "source": [
        "stringVariable = 'This is a string' #String\n",
        "numericVariable = 10 #Integer\n",
        "numericFloatVariable = 25.5 #Float\n",
        "complexNumber = 2 + 3j #Complex Number\n",
        "listVariable = ['a','b','c']\n",
        "tupleVariable = (1,2,3,4)\n",
        "dictionaryVariable = {1:\"Monday\", 2:\"Tuesday\", 3:\"Wednesday\", 4: \"Thursday\"}\n",
        "\n",
        "print('String Example',stringVariable, \"|\", type(stringVariable))\n",
        "print('Integer Example',numericVariable, \"|\",type(numericVariable))\n",
        "print('Float Example',numericFloatVariable, \"|\",type(numericFloatVariable))\n",
        "print('Complex Number Example',complexNumber, \"|\",type(complexNumber))\n",
        "print('List Example',listVariable, \"|\",type(listVariable))\n",
        "print('Tuple Example',tupleVariable, \"|\",type(tupleVariable))\n",
        "print('Dictionary Example',dictionaryVariable, \"|\",type(dictionaryVariable))"
      ],
      "execution_count": 46,
      "outputs": [
        {
          "output_type": "stream",
          "text": [
            "String Example This is a string | <class 'str'>\n",
            "Integer Example 10 | <class 'int'>\n",
            "Float Example 25.5 | <class 'float'>\n",
            "Complex Number Example (2+3j) | <class 'complex'>\n",
            "List Example ['a', 'b', 'c'] | <class 'list'>\n",
            "Tuple Example (1, 2, 3, 4) | <class 'tuple'>\n",
            "Dictionary Example {1: 'Monday', 2: 'Tuesday', 3: 'Wednesday', 4: 'Thursday'} | <class 'dict'>\n"
          ],
          "name": "stdout"
        }
      ]
    },
    {
      "cell_type": "markdown",
      "metadata": {
        "id": "wIkfMJAw5W-Z",
        "colab_type": "text"
      },
      "source": [
        "Question 7:\n",
        "Create a Markdown cell in jupyter and list the steps discussed in the session by Dr. Darshan\n",
        "Ingle sir to create Github profile and upload Githubs Assignment link."
      ]
    },
    {
      "cell_type": "markdown",
      "metadata": {
        "id": "biE9NtoybeBt",
        "colab_type": "text"
      },
      "source": [
        "# **Markdown Example**\n",
        "\n",
        "## Steps to create Github Profile\n",
        "\n",
        "**Step 1:**\n",
        "Go to: https://github.com/join\n",
        "\n",
        "**Step 2:**\n",
        "Click on Sign Up\n",
        "\n",
        "**Step 3:**\n",
        "Sign up by providing your credentials\n",
        "\n",
        "**Step 4:**\n",
        "Create repository and name it ___\"LetsUpgrade AI-ML\"___\n",
        "\n",
        "**Step 5:**\n",
        "Ensure that your repository is made public\n",
        "\n",
        "**Step 6:**\n",
        "Upload your folder containing the day's assignment\n",
        "\n",
        "**Step 7:**\n",
        "Fill the google form provided by the _LetsUpgrade Team_\n",
        "\n",
        "\n"
      ]
    }
  ]
}