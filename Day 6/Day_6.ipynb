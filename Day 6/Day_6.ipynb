{
  "nbformat": 4,
  "nbformat_minor": 0,
  "metadata": {
    "colab": {
      "name": "Day_6.ipynb",
      "provenance": [],
      "collapsed_sections": []
    },
    "kernelspec": {
      "name": "python3",
      "display_name": "Python 3"
    }
  },
  "cells": [
    {
      "cell_type": "markdown",
      "metadata": {
        "id": "AhkBjODjW1uL",
        "colab_type": "text"
      },
      "source": [
        "Question 1:\n",
        "Assuming that we have some email addresses in the \"username@companyname.com\" format, please write program\n",
        "to print the company name of a given email address. Both user names and company names are composed of letters\n",
        "only."
      ]
    },
    {
      "cell_type": "code",
      "metadata": {
        "id": "CH0SgX7WW13c",
        "colab_type": "code",
        "colab": {
          "base_uri": "https://localhost:8080/",
          "height": 34
        },
        "outputId": "f5419384-5eca-4126-eeb7-ceee17cd3dd9"
      },
      "source": [
        "emailString = \"testuser.1@gmail.com\"\n",
        "indexAt = emailString.rindex('@')\n",
        "indexDot = emailString.rindex('.')\n",
        "copmanyName = emailString[indexAt+1:indexDot]\n",
        "print('Company Name = ',copmanyName)"
      ],
      "execution_count": null,
      "outputs": [
        {
          "output_type": "stream",
          "text": [
            "Company Name =  gmail\n"
          ],
          "name": "stdout"
        }
      ]
    },
    {
      "cell_type": "markdown",
      "metadata": {
        "id": "ZalT3z-5W19b",
        "colab_type": "text"
      },
      "source": [
        "Question 2:\n",
        "Write a program that accepts a comma-separated sequence of words as input and prints the words in a comma\n",
        "separated sequence after sorting them alphabetically."
      ]
    },
    {
      "cell_type": "code",
      "metadata": {
        "id": "mFI4m1MrW2D7",
        "colab_type": "code",
        "colab": {
          "base_uri": "https://localhost:8080/",
          "height": 66
        },
        "outputId": "a837a125-e57f-4b6b-c656-80d103396f0c"
      },
      "source": [
        "myString = input()\n",
        "myList = []\n",
        "myList = myString.rsplit(',')\n",
        "print('Unsorted List',myList)\n",
        "myList.sort()\n",
        "print('Sorted List',myList)"
      ],
      "execution_count": null,
      "outputs": [
        {
          "output_type": "stream",
          "text": [
            "d,g,r,r,sa,d,sg,\n",
            "Unsorted List ['d', 'g', 'r', 'r', 'sa', 'd', 'sg', '']\n",
            "Sorted List ['', 'd', 'd', 'g', 'r', 'r', 'sa', 'sg']\n"
          ],
          "name": "stdout"
        }
      ]
    },
    {
      "cell_type": "markdown",
      "metadata": {
        "id": "Kb4RimYEW2K6",
        "colab_type": "text"
      },
      "source": [
        "Question 3:\n",
        "Create your own Jupyter Notebook for Sets.\n",
        "Reference link: https://www.w3schools.com/python/python_sets.asp\n"
      ]
    },
    {
      "cell_type": "code",
      "metadata": {
        "id": "jWykq-MFW2R6",
        "colab_type": "code",
        "colab": {
          "base_uri": "https://localhost:8080/",
          "height": 180
        },
        "outputId": "e8a5f9c0-b527-44b6-ea54-89f1df157547"
      },
      "source": [
        "mySet1 = {1,2,3,4,5}\n",
        "print(\"Set 1 = \",mySet1)\n",
        "mySet2 = {6,7,8,9,10}\n",
        "print(\"Set 2 = \",mySet2)\n",
        "\n",
        "mySet1.update(mySet2)\n",
        "print('Updated Set = ',mySet1)\n",
        "mySet3 = {'a','b','c','d'}\n",
        "mySet3.clear()\n",
        "print('Cleared Set = ',mySet3)\n",
        "copiedSet = mySet2.copy()\n",
        "print('Copied Set = ',copiedSet)\n",
        "\n",
        "setA = {6,7,8}\n",
        "setB = {7,8,9}\n",
        "difference = setA.difference(setB)\n",
        "print('Difference Set = ',difference)\n",
        "\n",
        "setA = {6,7,8,9,10}\n",
        "setB = {7,8,9}\n",
        "setA.difference_update(setB)\n",
        "print('Difference Update Set = ',setA)\n",
        "\n",
        "setA.discard(10)\n",
        "print(\"After Discard \",setA)\n",
        "\n",
        "setC = {2,3,4,5}\n",
        "setD = {2,4,5}\n",
        "setC.symmetric_difference(setD)\n",
        "print('Symmetric Difference',setC)\n",
        "\n",
        "\n",
        "setC.union(setD)\n",
        "print('Union',setC)\n"
      ],
      "execution_count": null,
      "outputs": [
        {
          "output_type": "stream",
          "text": [
            "Set 1 =  {1, 2, 3, 4, 5}\n",
            "Set 2 =  {6, 7, 8, 9, 10}\n",
            "Updated Set =  {1, 2, 3, 4, 5, 6, 7, 8, 9, 10}\n",
            "Cleared Set =  set()\n",
            "Copied Set =  {6, 7, 8, 9, 10}\n",
            "Difference Set =  {6}\n",
            "Difference Update Set =  {6, 10}\n",
            "After Discard  {6}\n",
            "Symmetric Difference {2, 3, 4, 5}\n",
            "Union {2, 3, 4, 5}\n"
          ],
          "name": "stdout"
        }
      ]
    },
    {
      "cell_type": "markdown",
      "metadata": {
        "id": "vLz9QzcpW2Xw",
        "colab_type": "text"
      },
      "source": [
        "Question 4:\n",
        "Given a list of n-1 numbers ranging from 1 to n, your task is to find the missing number. There are no duplicates."
      ]
    },
    {
      "cell_type": "code",
      "metadata": {
        "id": "qFWVNgFmW2dm",
        "colab_type": "code",
        "colab": {
          "base_uri": "https://localhost:8080/",
          "height": 33
        },
        "outputId": "8e252986-bded-490c-bca0-52f6bcd83653"
      },
      "source": [
        "numbers = [1,2,4,3,6,5,8,9]\n",
        "numbers.sort()\n",
        "for index,n in enumerate(numbers):\n",
        "  if(index+1 != n):\n",
        "    print('missing number is', index+1)\n",
        "    break"
      ],
      "execution_count": null,
      "outputs": [
        {
          "output_type": "stream",
          "text": [
            "missing number is 7\n"
          ],
          "name": "stdout"
        }
      ]
    },
    {
      "cell_type": "markdown",
      "metadata": {
        "id": "jkfADqzBW2i9",
        "colab_type": "text"
      },
      "source": [
        "Question 5:\n",
        "With a given list L, write a program to print this list L after removing all duplicate values with original order reserved."
      ]
    },
    {
      "cell_type": "code",
      "metadata": {
        "id": "eZJ3qR05W2oV",
        "colab_type": "code",
        "colab": {
          "base_uri": "https://localhost:8080/",
          "height": 33
        },
        "outputId": "f3c7dc7f-f0b2-44e8-a905-9455a1f73d5c"
      },
      "source": [
        "myList5 = [1,2,2,4,3,4,5,6,5]\n",
        "finalList = []\n",
        "for j in myList5:\n",
        "  if(j not in finalList):\n",
        "    finalList.append(j)\n",
        "print(finalList)"
      ],
      "execution_count": null,
      "outputs": [
        {
          "output_type": "stream",
          "text": [
            "[1, 2, 4, 3, 5, 6]\n"
          ],
          "name": "stdout"
        }
      ]
    }
  ]
}