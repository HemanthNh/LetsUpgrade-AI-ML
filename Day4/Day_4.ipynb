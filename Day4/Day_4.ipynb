{
  "nbformat": 4,
  "nbformat_minor": 0,
  "metadata": {
    "colab": {
      "name": "Day_4.ipynb",
      "provenance": [],
      "collapsed_sections": []
    },
    "kernelspec": {
      "name": "python3",
      "display_name": "Python 3"
    }
  },
  "cells": [
    {
      "cell_type": "markdown",
      "metadata": {
        "id": "-DSzAGQOrHsJ",
        "colab_type": "text"
      },
      "source": [
        "Question 1 :\n",
        "Research on whether addition, subtraction, multiplication, division, floor division and modulo\n",
        "operations be performed on complex numbers. Based on your study, implement a Python\n",
        "program to demonstrate these operations.\n"
      ]
    },
    {
      "cell_type": "code",
      "metadata": {
        "id": "iPPbHyR9qyiw",
        "colab_type": "code",
        "colab": {
          "base_uri": "https://localhost:8080/",
          "height": 85
        },
        "outputId": "81167ae5-f6e0-4622-9b36-24e457b4088d"
      },
      "source": [
        "complexNumber1 = 3 + 5j\n",
        "complexNumber2 = 2 + 3j\n",
        "\n",
        "addition = complexNumber1 + complexNumber2\n",
        "print(addition)\n",
        "subtraction = complexNumber1 - complexNumber2\n",
        "print(subtraction)\n",
        "multiplication = complexNumber1 * complexNumber2\n",
        "print(multiplication)\n",
        "division = complexNumber1 / complexNumber2\n",
        "print(division)\n",
        "\n",
        "# modulo = complexNumber1 % complexNumber2\n",
        "# print(modulo) returns error since modulo is not supported in python 3.x\n"
      ],
      "execution_count": null,
      "outputs": [
        {
          "output_type": "stream",
          "text": [
            "(5+8j)\n",
            "(1+2j)\n",
            "(-9+19j)\n",
            "(1.6153846153846154+0.07692307692307686j)\n"
          ],
          "name": "stdout"
        }
      ]
    },
    {
      "cell_type": "markdown",
      "metadata": {
        "id": "qwbCXHjirMRj",
        "colab_type": "text"
      },
      "source": [
        "Question 2 :\n",
        "Research on range() functions and its parameters. Create a markdown cell and write in your own\n",
        "words (no copy-paste from google please) what you understand about it. Implement a small\n",
        "program of your choice on the same."
      ]
    },
    {
      "cell_type": "markdown",
      "metadata": {
        "id": "rmIY5ZvmzAkM",
        "colab_type": "text"
      },
      "source": [
        "# Range function\n",
        "\n",
        "### Range function is used for creating a range of \n",
        "### numeric values in a simple manner without having to \n",
        "### hard code or loop through any values.\n",
        "\n",
        "__It is a very handy way of creating a list of numbers__"
      ]
    },
    {
      "cell_type": "code",
      "metadata": {
        "id": "29EucIIbrMrz",
        "colab_type": "code",
        "colab": {
          "base_uri": "https://localhost:8080/",
          "height": 544
        },
        "outputId": "f8af2132-885a-497e-ac45-02d85b6500d4"
      },
      "source": [
        "# Range function is used for creating a range of \n",
        "# numeric values in a simple manner without having to \n",
        "# hard code or loop through any values\n",
        "\n",
        "myRange = range(5)\n",
        "print(myRange)\n",
        "for i in myRange:\n",
        "  print(i)\n",
        "print('This is a range from 0 to 4')\n",
        "print('------------------------')\n",
        "  # program to get square for all even numbers below 20\n",
        "print('This is a range from 0 to 20 along with their squares')\n",
        "\n",
        "for n  in range(0,21,2):\n",
        "  print(n,'^2 = ', n ** 2)\n",
        "\n",
        "\n",
        "# program to get multiplication table for any given number\n",
        "number = int(input(\"Enter number to get its multiplication table \"))\n",
        "for multiplier  in range(1,11):\n",
        "  print(number, 'x', multiplier, '=', number * multiplier)\n",
        "\n",
        "\n",
        "\n"
      ],
      "execution_count": null,
      "outputs": [
        {
          "output_type": "stream",
          "text": [
            "range(0, 5)\n",
            "0\n",
            "1\n",
            "2\n",
            "3\n",
            "4\n",
            "This is a range from 0 to 4\n",
            "------------------------\n",
            "This is a range from 0 to 20 along with their squares\n",
            "0 ^2 =  0\n",
            "2 ^2 =  4\n",
            "4 ^2 =  16\n",
            "6 ^2 =  36\n",
            "8 ^2 =  64\n",
            "10 ^2 =  100\n",
            "12 ^2 =  144\n",
            "14 ^2 =  196\n",
            "16 ^2 =  256\n",
            "18 ^2 =  324\n",
            "20 ^2 =  400\n",
            "Enter number to get its multiplication table 22\n",
            "22 x 1 = 22\n",
            "22 x 2 = 44\n",
            "22 x 3 = 66\n",
            "22 x 4 = 88\n",
            "22 x 5 = 110\n",
            "22 x 6 = 132\n",
            "22 x 7 = 154\n",
            "22 x 8 = 176\n",
            "22 x 9 = 198\n",
            "22 x 10 = 220\n"
          ],
          "name": "stdout"
        }
      ]
    },
    {
      "cell_type": "markdown",
      "metadata": {
        "id": "YrecqDbzrMym",
        "colab_type": "text"
      },
      "source": [
        "Question 3:\n",
        " Consider two numbers. Perform their subtraction and if the result of subtraction is greater than\n",
        "25, print their multiplication result else print their division result."
      ]
    },
    {
      "cell_type": "code",
      "metadata": {
        "id": "CDwc9OowrM44",
        "colab_type": "code",
        "colab": {
          "base_uri": "https://localhost:8080/",
          "height": 51
        },
        "outputId": "9d8ae3b2-2b9e-4138-ad0d-1849c96c351a"
      },
      "source": [
        "number1 = 50\n",
        "number2 = 60\n",
        "if((number2 - number1) > 25):\n",
        "  print('Multiplying numbers')\n",
        "  print(number2 * number1)\n",
        "else:\n",
        "  print('Dividing numbers')\n",
        "  print(number2 / number1)\n"
      ],
      "execution_count": null,
      "outputs": [
        {
          "output_type": "stream",
          "text": [
            "Dividing numbers\n",
            "1.2\n"
          ],
          "name": "stdout"
        }
      ]
    },
    {
      "cell_type": "markdown",
      "metadata": {
        "id": "YPLpEaaRrM-i",
        "colab_type": "text"
      },
      "source": [
        "Question 4:\n",
        "Consider a list of 10 elements of integer values. If the number in the list is divisible by 2, print the\n",
        "result as \"square of that number minus 2\"."
      ]
    },
    {
      "cell_type": "code",
      "metadata": {
        "id": "N1aD7R1crNEm",
        "colab_type": "code",
        "colab": {
          "base_uri": "https://localhost:8080/",
          "height": 102
        },
        "outputId": "0e59ac49-8285-4c61-90c4-f5eba08030c9"
      },
      "source": [
        "myList = [1,2,3,4,5,6,7,8,9,10]\n",
        "for i in myList:\n",
        "  if(i%2 == 0):\n",
        "    print((i**2)-2)"
      ],
      "execution_count": null,
      "outputs": [
        {
          "output_type": "stream",
          "text": [
            "2\n",
            "14\n",
            "34\n",
            "62\n",
            "98\n"
          ],
          "name": "stdout"
        }
      ]
    },
    {
      "cell_type": "markdown",
      "metadata": {
        "id": "26IGfP2drNJ9",
        "colab_type": "text"
      },
      "source": [
        "Question 5:\n",
        "Consider a list of 10 elements. Print all the elements in the list which are greater than 7 when that\n",
        "number is divided 2."
      ]
    },
    {
      "cell_type": "code",
      "metadata": {
        "id": "N7ehqF9zrNPn",
        "colab_type": "code",
        "colab": {
          "base_uri": "https://localhost:8080/",
          "height": 119
        },
        "outputId": "b2a88978-8ce3-42db-9452-9230ee3e4bdf"
      },
      "source": [
        "myList2 = [10,11,12,13,14,15,16,17,18,19,20]\n",
        "temp = 0\n",
        "for l in myList2:\n",
        "  if((l/2) > 7):\n",
        "     print(l)"
      ],
      "execution_count": 17,
      "outputs": [
        {
          "output_type": "stream",
          "text": [
            "15\n",
            "16\n",
            "17\n",
            "18\n",
            "19\n",
            "20\n"
          ],
          "name": "stdout"
        }
      ]
    },
    {
      "cell_type": "code",
      "metadata": {
        "id": "4fVs6axvB1ja",
        "colab_type": "code",
        "colab": {}
      },
      "source": [
        ""
      ],
      "execution_count": null,
      "outputs": []
    }
  ]
}